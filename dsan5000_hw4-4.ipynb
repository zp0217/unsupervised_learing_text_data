{
 "cells": [
  {
   "cell_type": "markdown",
   "metadata": {},
   "source": [
    "---\n",
    "title: \"DSAN 5000 HW4.4: Evaluating Embeddings with WordNet\"\n",
    "format:\n",
    "  html:\n",
    "    embed-resources: true\n",
    "    toc: true\n",
    "    df-print: kable\n",
    "    link-external-newwindow: true\n",
    "    link-external-icon: true\n",
    "---"
   ]
  },
  {
   "cell_type": "markdown",
   "metadata": {},
   "source": [
    "You've reached the final part of HW4! Similar to how you used the original NY Times sections to evaluate the unsupervised topic estimation at the end of Part 1, here you will use a linguistic resource called WordNet to evaluate the (unsupervised) word embeddings you visualized in Part 3.\n",
    "\n",
    "While in HW4.1 and HW4.2 we looked at how unsupervised learning algorithms can discover meaningful latent properties of **documents** (the section of the NY Times that the article was published in), here we'll see how t-SNE can allow us to discover meaningful latent properties of **words**.\n",
    "\n",
    "Specifically, in this part we will draw on the notion that words in a given language can be clustered into [**\"Synsets\"**](https://wordnet.princeton.edu/): sets of words which have approximately the same meaning."
   ]
  },
  {
   "cell_type": "markdown",
   "metadata": {},
   "source": [
    "## Step 1: Imports and Global Configuration"
   ]
  },
  {
   "cell_type": "code",
   "execution_count": 2,
   "metadata": {},
   "outputs": [
    {
     "name": "stdout",
     "output_type": "stream",
     "text": [
      "Global setting: Compute pairwise distances between [50] words\n"
     ]
    }
   ],
   "source": [
    "import configparser\n",
    "config = configparser.ConfigParser()\n",
    "config.read(\"hw4.ini\")\n",
    "num_words_wordnet = int(config.get('Globals', 'num_words_wordnet'))\n",
    "print(f\"Global setting: Compute pairwise distances between [{num_words_wordnet}] words\")\n",
    "\n",
    "import pandas as pd\n",
    "\n",
    "# For constructing a DataFrame containing all *pairs* of words from a list of\n",
    "# individual words\n",
    "from sklearn.utils.extmath import cartesian\n",
    "\n",
    "# For computing the cosine similarity score between a pair of word vectors\n",
    "from sklearn.metrics.pairwise import cosine_similarity\n",
    "\n",
    "# For computing Synset path distances\n",
    "from nltk.corpus import wordnet as wn"
   ]
  },
  {
   "cell_type": "markdown",
   "metadata": {},
   "source": [
    "## Step 2: Load Embeddings"
   ]
  },
  {
   "cell_type": "markdown",
   "metadata": {},
   "source": [
    "Your job in Step 2 here is the same as it was in HW4.3 Step 2: load the embedding vectors into a Pandas `DataFrame` named `emb_df`."
   ]
  },
  {
   "cell_type": "code",
   "execution_count": 3,
   "metadata": {},
   "outputs": [
    {
     "data": {
      "text/plain": [
       "(4874, 256)"
      ]
     },
     "execution_count": 3,
     "metadata": {},
     "output_type": "execute_result"
    }
   ],
   "source": [
    "config = configparser.ConfigParser()\n",
    "config.read(\"hw4.ini\")\n",
    "emb_df1 = config.get('ExternalFiles','embeddings')\n",
    "\n",
    "emb_df = pd.read_csv(emb_df1)\n",
    "emb_df.shape\n",
    "\n"
   ]
  },
  {
   "cell_type": "markdown",
   "metadata": {},
   "source": [
    "## Step 3: Extract Vectors for Top $N$ Words"
   ]
  },
  {
   "cell_type": "markdown",
   "metadata": {},
   "source": [
    "This is where the `num_words_wordnet` global variable from `hw4.ini` comes in: in the following code cell, reduce the full length-4874 `emb_df` `DataFrame` down into a `DataFrame` object named `top_word_df`, by keeping only the vectors for the **top $N$** most important words. Note that:\n",
    "\n",
    "* $N$ is given by `num_words_wordnet`, and\n",
    "* Importance is operationalized in terms of the **total tf-idf scores** for each word, that you computed in HW4.1\n",
    "\n",
    "As was the case in HW4.3, if you don't have tf-idf scores for some of the 4874 words here, because of differences in text-cleaning code, you can just drop these words. Thus, after dropping any such cases, the entries within `top_word_df` should all have **non-`NA` weight values**.\n",
    "\n",
    "Once you have constructed `top_word_df`, use `top_word_df.shape` as the last line in your code cell, to display and verify that `top_word_df` contains $N$ rows and 256 columns."
   ]
  },
  {
   "cell_type": "code",
   "execution_count": 10,
   "metadata": {},
   "outputs": [
    {
     "data": {
      "text/html": [
       "<div>\n",
       "<style scoped>\n",
       "    .dataframe tbody tr th:only-of-type {\n",
       "        vertical-align: middle;\n",
       "    }\n",
       "\n",
       "    .dataframe tbody tr th {\n",
       "        vertical-align: top;\n",
       "    }\n",
       "\n",
       "    .dataframe thead th {\n",
       "        text-align: right;\n",
       "    }\n",
       "</style>\n",
       "<table border=\"1\" class=\"dataframe\">\n",
       "  <thead>\n",
       "    <tr style=\"text-align: right;\">\n",
       "      <th></th>\n",
       "      <th>0</th>\n",
       "      <th>1</th>\n",
       "      <th>2</th>\n",
       "      <th>3</th>\n",
       "      <th>4</th>\n",
       "      <th>5</th>\n",
       "      <th>6</th>\n",
       "      <th>7</th>\n",
       "      <th>8</th>\n",
       "      <th>9</th>\n",
       "      <th>...</th>\n",
       "      <th>247</th>\n",
       "      <th>248</th>\n",
       "      <th>249</th>\n",
       "      <th>250</th>\n",
       "      <th>251</th>\n",
       "      <th>252</th>\n",
       "      <th>253</th>\n",
       "      <th>254</th>\n",
       "      <th>255</th>\n",
       "      <th>word</th>\n",
       "    </tr>\n",
       "  </thead>\n",
       "  <tbody>\n",
       "    <tr>\n",
       "      <th>2069</th>\n",
       "      <td>0.007169</td>\n",
       "      <td>0.015344</td>\n",
       "      <td>-0.043939</td>\n",
       "      <td>0.027289</td>\n",
       "      <td>0.036152</td>\n",
       "      <td>0.040868</td>\n",
       "      <td>0.015721</td>\n",
       "      <td>0.038797</td>\n",
       "      <td>0.036224</td>\n",
       "      <td>-0.034164</td>\n",
       "      <td>...</td>\n",
       "      <td>-0.014884</td>\n",
       "      <td>0.018008</td>\n",
       "      <td>0.024236</td>\n",
       "      <td>-0.010886</td>\n",
       "      <td>-0.035874</td>\n",
       "      <td>-0.024761</td>\n",
       "      <td>0.015486</td>\n",
       "      <td>-0.016472</td>\n",
       "      <td>0.017559</td>\n",
       "      <td>her</td>\n",
       "    </tr>\n",
       "    <tr>\n",
       "      <th>3984</th>\n",
       "      <td>-0.038468</td>\n",
       "      <td>0.022831</td>\n",
       "      <td>-0.034240</td>\n",
       "      <td>-0.031011</td>\n",
       "      <td>0.001344</td>\n",
       "      <td>0.022516</td>\n",
       "      <td>-0.019301</td>\n",
       "      <td>0.000009</td>\n",
       "      <td>-0.013699</td>\n",
       "      <td>-0.016304</td>\n",
       "      <td>...</td>\n",
       "      <td>-0.010794</td>\n",
       "      <td>0.008976</td>\n",
       "      <td>0.003407</td>\n",
       "      <td>0.020292</td>\n",
       "      <td>-0.032887</td>\n",
       "      <td>-0.036207</td>\n",
       "      <td>0.040459</td>\n",
       "      <td>-0.024848</td>\n",
       "      <td>0.010659</td>\n",
       "      <td>she</td>\n",
       "    </tr>\n",
       "    <tr>\n",
       "      <th>4808</th>\n",
       "      <td>-0.038333</td>\n",
       "      <td>-0.001641</td>\n",
       "      <td>-0.002045</td>\n",
       "      <td>-0.018365</td>\n",
       "      <td>0.041535</td>\n",
       "      <td>0.012100</td>\n",
       "      <td>-0.046086</td>\n",
       "      <td>0.018965</td>\n",
       "      <td>-0.000487</td>\n",
       "      <td>-0.057306</td>\n",
       "      <td>...</td>\n",
       "      <td>-0.000996</td>\n",
       "      <td>-0.014339</td>\n",
       "      <td>-0.039227</td>\n",
       "      <td>-0.029326</td>\n",
       "      <td>-0.030796</td>\n",
       "      <td>-0.044777</td>\n",
       "      <td>0.019669</td>\n",
       "      <td>-0.023080</td>\n",
       "      <td>-0.026501</td>\n",
       "      <td>we</td>\n",
       "    </tr>\n",
       "    <tr>\n",
       "      <th>2854</th>\n",
       "      <td>-0.053021</td>\n",
       "      <td>0.024960</td>\n",
       "      <td>-0.050793</td>\n",
       "      <td>0.009225</td>\n",
       "      <td>0.037813</td>\n",
       "      <td>0.072191</td>\n",
       "      <td>-0.047812</td>\n",
       "      <td>0.034579</td>\n",
       "      <td>-0.008728</td>\n",
       "      <td>0.005593</td>\n",
       "      <td>...</td>\n",
       "      <td>0.028591</td>\n",
       "      <td>0.007184</td>\n",
       "      <td>-0.052043</td>\n",
       "      <td>0.002593</td>\n",
       "      <td>-0.121087</td>\n",
       "      <td>-0.098834</td>\n",
       "      <td>0.008677</td>\n",
       "      <td>-0.037302</td>\n",
       "      <td>0.003238</td>\n",
       "      <td>ms</td>\n",
       "    </tr>\n",
       "    <tr>\n",
       "      <th>2089</th>\n",
       "      <td>-0.071359</td>\n",
       "      <td>0.017195</td>\n",
       "      <td>0.012831</td>\n",
       "      <td>0.062265</td>\n",
       "      <td>0.072296</td>\n",
       "      <td>0.028795</td>\n",
       "      <td>-0.001176</td>\n",
       "      <td>0.024597</td>\n",
       "      <td>0.018794</td>\n",
       "      <td>0.000476</td>\n",
       "      <td>...</td>\n",
       "      <td>0.064137</td>\n",
       "      <td>-0.048348</td>\n",
       "      <td>0.006170</td>\n",
       "      <td>-0.025071</td>\n",
       "      <td>-0.048877</td>\n",
       "      <td>-0.044238</td>\n",
       "      <td>0.022355</td>\n",
       "      <td>0.022146</td>\n",
       "      <td>0.020285</td>\n",
       "      <td>him</td>\n",
       "    </tr>\n",
       "  </tbody>\n",
       "</table>\n",
       "<p>5 rows × 257 columns</p>\n",
       "</div>"
      ],
      "text/plain": [
       "             0         1         2         3         4         5         6  \\\n",
       "2069  0.007169  0.015344 -0.043939  0.027289  0.036152  0.040868  0.015721   \n",
       "3984 -0.038468  0.022831 -0.034240 -0.031011  0.001344  0.022516 -0.019301   \n",
       "4808 -0.038333 -0.001641 -0.002045 -0.018365  0.041535  0.012100 -0.046086   \n",
       "2854 -0.053021  0.024960 -0.050793  0.009225  0.037813  0.072191 -0.047812   \n",
       "2089 -0.071359  0.017195  0.012831  0.062265  0.072296  0.028795 -0.001176   \n",
       "\n",
       "             7         8         9  ...       247       248       249  \\\n",
       "2069  0.038797  0.036224 -0.034164  ... -0.014884  0.018008  0.024236   \n",
       "3984  0.000009 -0.013699 -0.016304  ... -0.010794  0.008976  0.003407   \n",
       "4808  0.018965 -0.000487 -0.057306  ... -0.000996 -0.014339 -0.039227   \n",
       "2854  0.034579 -0.008728  0.005593  ...  0.028591  0.007184 -0.052043   \n",
       "2089  0.024597  0.018794  0.000476  ...  0.064137 -0.048348  0.006170   \n",
       "\n",
       "           250       251       252       253       254       255  word  \n",
       "2069 -0.010886 -0.035874 -0.024761  0.015486 -0.016472  0.017559   her  \n",
       "3984  0.020292 -0.032887 -0.036207  0.040459 -0.024848  0.010659   she  \n",
       "4808 -0.029326 -0.030796 -0.044777  0.019669 -0.023080 -0.026501    we  \n",
       "2854  0.002593 -0.121087 -0.098834  0.008677 -0.037302  0.003238    ms  \n",
       "2089 -0.025071 -0.048877 -0.044238  0.022355  0.022146  0.020285   him  \n",
       "\n",
       "[5 rows x 257 columns]"
      ]
     },
     "execution_count": 10,
     "metadata": {},
     "output_type": "execute_result"
    }
   ],
   "source": [
    "#| label: hw4-4-3-response\n",
    "# Your code here\n",
    "config = configparser.ConfigParser()\n",
    "config.read(\"hw4.ini\")\n",
    "num_words_wordnet = config.get('Globals','num_words_wordnet')\n",
    "weights  = config.get('DataPaths','word_weights')\n",
    "weights = pd.read_csv(weights)\n",
    "\n",
    "top_word_df = pd.concat([emb_df,weights],axis = 1)\n",
    "\n",
    "top_word_df = top_word_df.sort_values(by='weight', ascending=False)\n",
    "top_word_df = top_word_df.dropna(axis = 0)\n",
    "top_word_df= top_word_df.iloc[:int(num_words_wordnet)]\n",
    "top_word_df = top_word_df.drop(top_word_df.columns[[256,258]],axis = 1) # word column?\n",
    "top_word_df.shape\n",
    "top_word_df.head()"
   ]
  },
  {
   "cell_type": "markdown",
   "metadata": {},
   "source": [
    "## Step 4: Construct Word Pairs `DataFrame`"
   ]
  },
  {
   "cell_type": "markdown",
   "metadata": {},
   "source": [
    "In this step, the reason why we need to filter down to a small number of words (`num_words_wordnet`) will become clear! Use the [`cartesian()` function](https://github.com/scikit-learn/scikit-learn/blob/main/sklearn/utils/extmath.py#L793) from `scikit-learn`, imported in Step 1 above, to construct a `DataFrame` object named `word_pair_df`, where\n",
    "\n",
    "* Each row should represent a **pair** of words (from the `\"word\"` column of `top_word_df`),\n",
    "* The first column should be named `\"w1\"`, and\n",
    "* The second column, representing the second word in the pair, should be named `\"w2\"`.\n",
    "\n",
    "\n",
    "We will use this `DataFrame` throughout the following steps, to store the **Cosine similarities** and then the **WordNet path similarities** for each pair.\n",
    "\n",
    "In the last line of the code cell, please use `word_pair_df.shape` to verify that you now have an $N^2 \\times 2$ `DataFrame`, where $N$ represents the value of `num_words_wordnet` from `hw4.ini`."
   ]
  },
  {
   "cell_type": "code",
   "execution_count": 5,
   "metadata": {},
   "outputs": [
    {
     "data": {
      "text/plain": [
       "(    w1   w2\n",
       " 0  her  her\n",
       " 1  her  she\n",
       " 2  her   we\n",
       " 3  her   ms\n",
       " 4  her  him,\n",
       " (2500, 2))"
      ]
     },
     "execution_count": 5,
     "metadata": {},
     "output_type": "execute_result"
    }
   ],
   "source": [
    "#| label: hw4-4-4-response\n",
    "# Your code here\n",
    "#words = top_word_df['word']\n",
    "\n",
    "\n",
    "import numpy as np\n",
    "words_array = np.array(top_word_df['word'])\n",
    "pairs = cartesian([words_array, words_array])\n",
    "word_pair_df = pd.DataFrame(pairs, columns=['w1', 'w2'])\n",
    "\n",
    "word_pair_df.head(),word_pair_df.shape"
   ]
  },
  {
   "cell_type": "markdown",
   "metadata": {},
   "source": [
    "## Step 5: Compute Pairwise Cosine Similarities"
   ]
  },
  {
   "cell_type": "markdown",
   "metadata": {},
   "source": [
    "Here, use `scikit-learn`'s `cosine_similarity()` function (imported in Step 1 above) to compute a cosine similarity score for **all pairs** of the $N$ vectors you extracted in Step 3.\n",
    "\n",
    "The nice thing about this `cosine_similarity()` function is that, if you give it just a **single** NumPy matrix (remember that you can convert a Pandas `DataFrame` into a NumPy matrix via `df.values`), it will assume that the **rows** of this matrix represent the items which you'd like pairwise similarity score for, and compute the scores accordingly.\n",
    "\n",
    "This means that, for example, if you provide an $N \\times 256$ matrix, the function returns a new $N \\times N$ where the entry in row $i$ column $j$ represents the similarity between row $i$ and row $j$ of the originally-provided matrix.\n",
    "\n",
    "Use this fact to construct such an $N \\times N$ matrix via `cosine_similarity()`, saving the result as a variable named `pairwise_sims`.\n",
    "\n",
    "You should then be able to use the `flatten()` function from NumPy to convert this $N \\times N$ matrix into a single length-$N^2$ vector, which you should append as a new column named `\"cosine_sim\"` within the `word_pair_df` `DataFrame` object created in the previous step. (Here, like in the earlier cases where you used `pd.concat()`, the flattened version of `pairwise_sims` should have the same ordering as the word pairs in `word_pair_df`, as long as you did not re-arrange these objects at any point!)\n",
    "\n",
    "As the final line in the code cell, use `word_pair_df.head()` to display the first 5 rows, to verify that the values in the new `\"cosine_sim\"` column are valid and reasonable (for example, the similarity between a word and itself should be `1.0`!)"
   ]
  },
  {
   "cell_type": "code",
   "execution_count": 6,
   "metadata": {},
   "outputs": [
    {
     "data": {
      "text/html": [
       "<div>\n",
       "<style scoped>\n",
       "    .dataframe tbody tr th:only-of-type {\n",
       "        vertical-align: middle;\n",
       "    }\n",
       "\n",
       "    .dataframe tbody tr th {\n",
       "        vertical-align: top;\n",
       "    }\n",
       "\n",
       "    .dataframe thead th {\n",
       "        text-align: right;\n",
       "    }\n",
       "</style>\n",
       "<table border=\"1\" class=\"dataframe\">\n",
       "  <thead>\n",
       "    <tr style=\"text-align: right;\">\n",
       "      <th></th>\n",
       "      <th>w1</th>\n",
       "      <th>w2</th>\n",
       "      <th>cosine_sim</th>\n",
       "    </tr>\n",
       "  </thead>\n",
       "  <tbody>\n",
       "    <tr>\n",
       "      <th>0</th>\n",
       "      <td>her</td>\n",
       "      <td>her</td>\n",
       "      <td>1.000000</td>\n",
       "    </tr>\n",
       "    <tr>\n",
       "      <th>1</th>\n",
       "      <td>her</td>\n",
       "      <td>she</td>\n",
       "      <td>0.537960</td>\n",
       "    </tr>\n",
       "    <tr>\n",
       "      <th>2</th>\n",
       "      <td>her</td>\n",
       "      <td>we</td>\n",
       "      <td>0.472494</td>\n",
       "    </tr>\n",
       "    <tr>\n",
       "      <th>3</th>\n",
       "      <td>her</td>\n",
       "      <td>ms</td>\n",
       "      <td>0.453016</td>\n",
       "    </tr>\n",
       "    <tr>\n",
       "      <th>4</th>\n",
       "      <td>her</td>\n",
       "      <td>him</td>\n",
       "      <td>0.483421</td>\n",
       "    </tr>\n",
       "  </tbody>\n",
       "</table>\n",
       "</div>"
      ],
      "text/plain": [
       "    w1   w2  cosine_sim\n",
       "0  her  her    1.000000\n",
       "1  her  she    0.537960\n",
       "2  her   we    0.472494\n",
       "3  her   ms    0.453016\n",
       "4  her  him    0.483421"
      ]
     },
     "execution_count": 6,
     "metadata": {},
     "output_type": "execute_result"
    }
   ],
   "source": [
    "#| label: hw4-4-5-response\n",
    "# Your code here\n",
    "mat1 = top_word_df.iloc[:, :-1].values\n",
    "\n",
    "pairwise_sims = cosine_similarity(mat1)\n",
    "\n",
    "flattened_sims = pairwise_sims.flatten()\n",
    "\n",
    "word_pair_df['cosine_sim'] = flattened_sims\n",
    "word_pair_df.head()"
   ]
  },
  {
   "cell_type": "markdown",
   "metadata": {},
   "source": [
    "## Step 6: Compute Pairwise WordNet Similarities"
   ]
  },
  {
   "cell_type": "markdown",
   "metadata": {},
   "source": [
    "In this step, we'll use `nltk`'s [programmatic interface](https://www.nltk.org/howto/wordnet.html) for [WordNet](https://wordnet.princeton.edu/), via the `wn` alias imported in Step 1 above, to obtain **human judgements** of the semantic similarities for each pair of words in `word_pair_df`.\n",
    "\n",
    "As a helper, we've provided a `get_wordnet_sim()` function for you at the beginning of the following code cell, which takes in strings `w1` and `w2`, uses the `.synsets()` function to obtain the Synset for the **most commonly-used form** of each word, then uses `wn.path_similarity()` to compute a similarity score between the two Synsets.\n",
    "\n",
    "**Note that this function returns the value `pd.NA`** when it is given word pairs where one or both words are not found in WordNet. **This will indeed be the case** for a few of the words (WordNet does *not* guarantee coverage of every word in the English language, since it is just a collaboration among linguists to cover as many words as possible given their resources!), so you should **take this into account** and **drop the rows containing `pd.NA` values** when computing the correlation coefficient in Step 7 below!\n",
    "\n",
    "Though you can find more details in the NLTK guide linked above, the `path_similarity()` function boils down to: two Synsets are similar if only a small number of \"hops\" through the human-constructed WordNet hierarchy are required to go from one to the other. Thus, for example, \"dog\" and \"cat\" will receive a high similarity score due to the small number of hops required (here, \"up\" and \"down\" refer to the **hypernyms** and **hyponyms** of each term, which you can see by opening the linked pages then clicking \"More\" and expanding the \"Hypernyms\" or \"Hyponyms\" links which appear):\n",
    "\n",
    "* From [dog](https://en-word.net/lemma/dog) up to [domestic animal](https://en-word.net/lemma/domestic%20animal), then\n",
    "* From [domestic animal](https://en-word.net/lemma/domestic%20animal) down to [house cat](https://en-word.net/lemma/house%20cat), and finally\n",
    "* From [house cat](https://en-word.net/lemma/house%20cat) up to [cat](https://en-word.net/lemma/cat)\n",
    "\n",
    "Given this approach, and the `get_wordnet_sim()` function which computes its numeric value, construct a new column in `word_pair_df` (immediately after the `cosine_sim` column) named `\"wn_sim\"`, containing the **WordNet path similarity** for each pair of words.\n",
    "\n",
    "Once this column has been added, use `word_pair_df.head()` as the last line in the code cell, to verify that the path similarity scores are reasonable, as you did for the Cosine similarity score in the previous step (for example, like with the Cosine similarity scores, the WordNet path similarity between a word and itself should be `1.0`)."
   ]
  },
  {
   "cell_type": "code",
   "execution_count": 7,
   "metadata": {},
   "outputs": [
    {
     "name": "stderr",
     "output_type": "stream",
     "text": [
      "[nltk_data] Downloading package wordnet to /Users/zp/nltk_data...\n",
      "[nltk_data]   Package wordnet is already up-to-date!\n"
     ]
    },
    {
     "data": {
      "text/html": [
       "<div>\n",
       "<style scoped>\n",
       "    .dataframe tbody tr th:only-of-type {\n",
       "        vertical-align: middle;\n",
       "    }\n",
       "\n",
       "    .dataframe tbody tr th {\n",
       "        vertical-align: top;\n",
       "    }\n",
       "\n",
       "    .dataframe thead th {\n",
       "        text-align: right;\n",
       "    }\n",
       "</style>\n",
       "<table border=\"1\" class=\"dataframe\">\n",
       "  <thead>\n",
       "    <tr style=\"text-align: right;\">\n",
       "      <th></th>\n",
       "      <th>w1</th>\n",
       "      <th>w2</th>\n",
       "      <th>cosine_sim</th>\n",
       "      <th>wn_sim</th>\n",
       "    </tr>\n",
       "  </thead>\n",
       "  <tbody>\n",
       "    <tr>\n",
       "      <th>0</th>\n",
       "      <td>her</td>\n",
       "      <td>her</td>\n",
       "      <td>1.000000</td>\n",
       "      <td>&lt;NA&gt;</td>\n",
       "    </tr>\n",
       "    <tr>\n",
       "      <th>1</th>\n",
       "      <td>her</td>\n",
       "      <td>she</td>\n",
       "      <td>0.537960</td>\n",
       "      <td>&lt;NA&gt;</td>\n",
       "    </tr>\n",
       "    <tr>\n",
       "      <th>2</th>\n",
       "      <td>her</td>\n",
       "      <td>we</td>\n",
       "      <td>0.472494</td>\n",
       "      <td>&lt;NA&gt;</td>\n",
       "    </tr>\n",
       "    <tr>\n",
       "      <th>3</th>\n",
       "      <td>her</td>\n",
       "      <td>ms</td>\n",
       "      <td>0.453016</td>\n",
       "      <td>&lt;NA&gt;</td>\n",
       "    </tr>\n",
       "    <tr>\n",
       "      <th>4</th>\n",
       "      <td>her</td>\n",
       "      <td>him</td>\n",
       "      <td>0.483421</td>\n",
       "      <td>&lt;NA&gt;</td>\n",
       "    </tr>\n",
       "  </tbody>\n",
       "</table>\n",
       "</div>"
      ],
      "text/plain": [
       "    w1   w2  cosine_sim wn_sim\n",
       "0  her  her    1.000000   <NA>\n",
       "1  her  she    0.537960   <NA>\n",
       "2  her   we    0.472494   <NA>\n",
       "3  her   ms    0.453016   <NA>\n",
       "4  her  him    0.483421   <NA>"
      ]
     },
     "execution_count": 7,
     "metadata": {},
     "output_type": "execute_result"
    }
   ],
   "source": [
    "#| label: hw4-4-6-response\n",
    "import nltk\n",
    "nltk.download('wordnet')\n",
    "def get_wordnet_sim(w1, w2):\n",
    "    w1_synsets = wn.synsets(w1)\n",
    "    if len(w1_synsets) == 0:\n",
    "        return pd.NA\n",
    "    w1_synset = w1_synsets[0]\n",
    "    w2_synsets = wn.synsets(w2)\n",
    "    if len(w2_synsets) == 0:\n",
    "        return pd.NA\n",
    "    w2_synset = w2_synsets[0]\n",
    "    try:\n",
    "        wn_sim = wn.path_similarity(w1_synset, w2_synset)\n",
    "    except:\n",
    "        return pd.NA\n",
    "    return wn_sim\n",
    "\n",
    "# Your code here\n",
    "word_pair_df['wn_sim'] = word_pair_df.apply(lambda row: get_wordnet_sim(row['w1'], row['w2']), axis=1)\n",
    "word_pair_df.head()\n"
   ]
  },
  {
   "cell_type": "markdown",
   "metadata": {},
   "source": [
    "## Step 7: Cosine Distance-Path Distance Correlation"
   ]
  },
  {
   "cell_type": "markdown",
   "metadata": {},
   "source": [
    "You've reached the final step! In the following code cell, first **handle any `pd.NA` values that were returned by `get_wordnet_sim()`**, as described in the Step 6 instructions.\n",
    "\n",
    "Once you have the subset of `word_pair_df` containing all pairs without a `pd.NA` value for `wn_sim`, use the `.corr()` function from Pandas to compute the **Pearson correlation coefficient** between the two similarities.\n",
    "\n",
    "You should find a fairly large value, above 70%, thus illustrating that **unsupervised algorithms like the Word Embedding algorithm used by Vertex AI can \"automatically\" construct semantic vector spaces which align to a great extent with human judgements of semantic similarity, which were painstakingly constructed over many years by the professional linguists behind WordNet!**"
   ]
  },
  {
   "cell_type": "code",
   "execution_count": 8,
   "metadata": {},
   "outputs": [
    {
     "data": {
      "text/plain": [
       "(0.6527559177883395,\n",
       "      w1          w2  cosine_sim    wn_sim\n",
       " 153  ms          ms    1.000000       1.0\n",
       " 155  ms      season    0.411227  0.083333\n",
       " 156  ms          pm    0.478671    0.0625\n",
       " 157  ms        game    0.531020  0.076923\n",
       " 158  ms      people    0.569282       0.1\n",
       " 159  ms  government    0.545909  0.076923\n",
       " 161  ms        some    0.497096  0.090909\n",
       " 163  ms       other    0.530623  0.090909\n",
       " 164  ms       music    0.571006  0.090909\n",
       " 165  ms     million    0.382197  0.071429,\n",
       " (1521, 4))"
      ]
     },
     "execution_count": 8,
     "metadata": {},
     "output_type": "execute_result"
    }
   ],
   "source": [
    "#| label: hw4-4-7-response\n",
    "# Your code here\n",
    "word_pairs_df = word_pair_df.dropna(subset=['wn_sim'])\n",
    "correlation = word_pairs_df['cosine_sim'].corr(word_pairs_df['wn_sim'])\n",
    "correlation,word_pairs_df.head(10),word_pairs_df.shape"
   ]
  },
  {
   "cell_type": "markdown",
   "metadata": {},
   "source": [
    "You made it! Congratulations :)\n",
    "\n",
    "Please submit your completed notebooks by pushing them to the GitHub repository created by GitHub Classroom."
   ]
  }
 ],
 "metadata": {
  "kernelspec": {
   "display_name": "Python 3",
   "language": "python",
   "name": "python3"
  },
  "language_info": {
   "codemirror_mode": {
    "name": "ipython",
    "version": 3
   },
   "file_extension": ".py",
   "mimetype": "text/x-python",
   "name": "python",
   "nbconvert_exporter": "python",
   "pygments_lexer": "ipython3",
   "version": "3.12.2"
  }
 },
 "nbformat": 4,
 "nbformat_minor": 2
}
